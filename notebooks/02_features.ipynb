{
 "cells": [
  {
   "cell_type": "markdown",
   "id": "2ebcc541",
   "metadata": {},
   "source": [
    "# 02 — Feature Analysis → then Visualization (Task 1)\n",
    "Compute importance first (mutual info, LightGBM gain, permutation), then visualize the top features by target."
   ]
  },
  {
   "cell_type": "code",
   "execution_count": null,
   "id": "314ea60c",
   "metadata": {},
   "outputs": [],
   "source": [
    "from pathlib import Path\n",
    "import sys, os\n",
    "import numpy as np\n",
    "import pandas as pd\n",
    "import matplotlib.pyplot as plt\n",
    "\n",
    "# Auto-detect project ROOT (parent of notebooks/)\n",
    "CWD = Path.cwd()\n",
    "ROOT = CWD if (CWD / 'src').exists() else CWD.parent\n",
    "if not (ROOT / 'src').exists():\n",
    "    if (CWD.parent / 'src').exists():\n",
    "        ROOT = CWD.parent\n",
    "    elif (CWD.parent.parent / 'src').exists():\n",
    "        ROOT = CWD.parent.parent\n",
    "sys.path.insert(0, str(ROOT))\n",
    "print(f'Using project ROOT: {ROOT}')\n",
    "\n",
    "DATA_PATH = ROOT / 'data' / 'raw' / 'Participant_Selection_Final.csv'\n",
    "REPORT_DIR = ROOT / 'artifacts' / 'reports'\n",
    "REPORT_DIR.mkdir(parents=True, exist_ok=True)\n",
    "TOP_K = 15\n",
    "from src.data.preprocess import load, preprocess, drop_non_numeric_noise\n",
    "from src.features.build_features import engineer_features\n",
    "from sklearn.model_selection import train_test_split\n",
    "from sklearn.feature_selection import mutual_info_classif\n",
    "from sklearn.metrics import roc_auc_score\n",
    "from sklearn.inspection import permutation_importance\n",
    "from lightgbm import LGBMClassifier\n",
    "\n",
    "df_raw = load(str(DATA_PATH))\n",
    "df = engineer_features(preprocess(df_raw.copy()))\n",
    "y = (df_raw['Participant_Selected_For_AID'] == 'Yes').astype(int)\n",
    "X = drop_non_numeric_noise(df).select_dtypes(include=['number','bool'])\n",
    "X_train, X_val, y_train, y_val = train_test_split(X, y, test_size=0.2, random_state=42, stratify=y)\n",
    "print('X:', X.shape, 'Train:', X_train.shape, 'Val:', X_val.shape, '| y+ rate:', y.mean().round(4))"
   ]
  },
  {
   "cell_type": "markdown",
   "id": "6c03efbc",
   "metadata": {},
   "source": [
    "## Importance — Mutual Information"
   ]
  },
  {
   "cell_type": "code",
   "execution_count": null,
   "id": "5f40196a",
   "metadata": {},
   "outputs": [],
   "source": [
    "mi = mutual_info_classif(X_train, y_train, random_state=42, discrete_features='auto')\n",
    "mi_s = pd.Series(mi, index=X_train.columns, name='mutual_info').fillna(0.0)"
   ]
  },
  {
   "cell_type": "markdown",
   "id": "324c74c5",
   "metadata": {},
   "source": [
    "## Importance — LightGBM gain"
   ]
  },
  {
   "cell_type": "code",
   "execution_count": null,
   "id": "674ed8d2",
   "metadata": {},
   "outputs": [],
   "source": [
    "lgbm = LGBMClassifier(n_estimators=600, learning_rate=0.05, num_leaves=31,\n",
    "                      class_weight='balanced', random_state=42)\n",
    "lgbm.fit(X_train, y_train)\n",
    "val_auc = roc_auc_score(y_val, lgbm.predict_proba(X_val)[:,1])\n",
    "print('LGBM Val AUC:', round(val_auc, 4))\n",
    "gain = pd.Series(lgbm.feature_importances_, index=X_train.columns, name='lgbm_gain')"
   ]
  },
  {
   "cell_type": "markdown",
   "id": "e1131c11",
   "metadata": {},
   "source": [
    "## Importance — Permutation (validation, AUC)"
   ]
  },
  {
   "cell_type": "code",
   "execution_count": null,
   "id": "2a44cbc6",
   "metadata": {},
   "outputs": [],
   "source": [
    "perm = permutation_importance(lgbm, X_val, y_val, n_repeats=10, random_state=42, scoring='roc_auc')\n",
    "perm_s = pd.Series(perm.importances_mean, index=X_train.columns, name='perm_importance')"
   ]
  },
  {
   "cell_type": "markdown",
   "id": "dee761d9",
   "metadata": {},
   "source": [
    "## Combine & rank"
   ]
  },
  {
   "cell_type": "code",
   "execution_count": null,
   "id": "cc2568f6",
   "metadata": {},
   "outputs": [],
   "source": [
    "imp = pd.concat([mi_s, gain, perm_s], axis=1)\n",
    "for c in imp.columns:\n",
    "    lo, hi = imp[c].min(), imp[c].max()\n",
    "    imp[c] = 0.0 if hi==lo else (imp[c]-lo)/(hi-lo)\n",
    "imp['combined'] = imp.mean(axis=1)\n",
    "imp_sorted = imp.sort_values('combined', ascending=False)\n",
    "display(imp_sorted.head(25))\n",
    "imp_sorted.to_csv(REPORT_DIR / 'task1_feature_importance.csv')\n",
    "top_features = imp_sorted.head(TOP_K).index.tolist()\n",
    "print('Top features:', top_features)"
   ]
  },
  {
   "cell_type": "markdown",
   "id": "c18de657",
   "metadata": {},
   "source": [
    "## Visualize TOP_K — Histograms by target"
   ]
  },
  {
   "cell_type": "code",
   "execution_count": null,
   "id": "81ff5cdd",
   "metadata": {},
   "outputs": [],
   "source": [
    "def plot_numeric_by_target(df_all, target_raw, cols, out_name):\n",
    "    k = len(cols)\n",
    "    ncols = 3\n",
    "    nrows = int(np.ceil(k / ncols))\n",
    "    plt.figure(figsize=(15, 4*nrows))\n",
    "    for i, c in enumerate(cols, 1):\n",
    "        ax = plt.subplot(nrows, ncols, i)\n",
    "        yes = df_all.loc[target_raw=='Yes', c].dropna().values\n",
    "        no = df_all.loc[target_raw=='No', c].dropna().values\n",
    "        ax.hist(no, bins=30, alpha=0.6, label='No')\n",
    "        ax.hist(yes, bins=30, alpha=0.6, label='Yes')\n",
    "        ax.set_title(c)\n",
    "        if i==1: ax.legend()\n",
    "    plt.tight_layout(); plt.savefig(REPORT_DIR / out_name, dpi=150, bbox_inches='tight'); plt.show()\n",
    "\n",
    "plot_cols = [c for c in top_features if c in X.columns][:TOP_K]\n",
    "plot_numeric_by_target(df, df_raw['Participant_Selected_For_AID'], plot_cols, 'top_features_hist_by_target.png')"
   ]
  },
  {
   "cell_type": "markdown",
   "id": "5f493f0d",
   "metadata": {},
   "source": [
    "## Visualize TOP_K — Boxplots by target"
   ]
  },
  {
   "cell_type": "code",
   "execution_count": null,
   "id": "3d0dbbd1",
   "metadata": {},
   "outputs": [],
   "source": [
    "k = len(plot_cols)\n",
    "ncols = 3\n",
    "nrows = int(np.ceil(k / ncols))\n",
    "plt.figure(figsize=(15, 4*nrows))\n",
    "for i, c in enumerate(plot_cols, 1):\n",
    "    ax = plt.subplot(nrows, ncols, i)\n",
    "    groups = [df.loc[df_raw['Participant_Selected_For_AID']==cls, c].dropna().values for cls in df_raw['Participant_Selected_For_AID'].dropna().unique()]\n",
    "    ax.boxplot(groups, labels=df_raw['Participant_Selected_For_AID'].dropna().unique().astype(str))\n",
    "    ax.set_title(c)\n",
    "plt.tight_layout(); plt.savefig(REPORT_DIR / 'top_features_boxplots_by_target.png', dpi=150, bbox_inches='tight'); plt.show()"
   ]
  }
 ],
 "metadata": {},
 "nbformat": 4,
 "nbformat_minor": 5
}
