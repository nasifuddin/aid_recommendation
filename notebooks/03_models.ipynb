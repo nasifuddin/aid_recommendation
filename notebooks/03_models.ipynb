{
 "cells": [
  {
   "cell_type": "markdown",
   "id": "2713c433",
   "metadata": {},
   "source": [
    "# 03 — Model Training (Task 1 & Task 2)"
   ]
  },
  {
   "cell_type": "code",
   "execution_count": null,
   "id": "80d41bea",
   "metadata": {},
   "outputs": [],
   "source": [
    "from pathlib import Path\n",
    "import sys, os\n",
    "import numpy as np\n",
    "import pandas as pd\n",
    "import matplotlib.pyplot as plt\n",
    "\n",
    "CWD = Path.cwd()\n",
    "ROOT = CWD if (CWD / 'src').exists() else CWD.parent\n",
    "if not (ROOT / 'src').exists():\n",
    "    if (CWD.parent / 'src').exists():\n",
    "        ROOT = CWD.parent\n",
    "    elif (CWD.parent.parent / 'src').exists():\n",
    "        ROOT = CWD.parent.parent\n",
    "sys.path.insert(0, str(ROOT))\n",
    "print(f'Using project ROOT: {ROOT}')\n",
    "from joblib import dump\n",
    "import yaml\n",
    "from lightgbm import LGBMClassifier\n",
    "from pathlib import Path\n",
    "DATA_PATH = ROOT / 'data' / 'raw' / 'Participant_Selection_Final.csv'\n",
    "CONFIG_DIR = ROOT / 'config'\n",
    "ARTIFACTS_DIR = ROOT / 'artifacts' / 'models'\n",
    "ARTIFACTS_DIR.mkdir(parents=True, exist_ok=True)\n",
    "from src.data.preprocess import load, preprocess, drop_non_numeric_noise\n",
    "from src.features.build_features import engineer_features\n",
    "from src.models.stacking import fit_base_models, fit_meta\n",
    "from src.labels.build_task2_labels import compute_percentiles, build_multilabel, write_thresholds_yaml, collapse_priority\n",
    "from src.eval.metrics import auc_pr, auc_roc, brier, find_best_threshold\n",
    "with open(CONFIG_DIR / 'params.yaml','r') as f:\n",
    "    CFG = yaml.safe_load(f)\n",
    "df = engineer_features(preprocess(load(str(DATA_PATH))))\n",
    "display(df.head())"
   ]
  },
  {
   "cell_type": "markdown",
   "id": "2269560d",
   "metadata": {},
   "source": [
    "## Task 1 — Eligibility (Stacked)"
   ]
  },
  {
   "cell_type": "code",
   "execution_count": null,
   "id": "b3ca375b",
   "metadata": {},
   "outputs": [],
   "source": [
    "y = (df['Participant_Selected_For_AID'] == 'Yes').astype(int)\n",
    "X = drop_non_numeric_noise(df).select_dtypes(include=['number','bool']).drop(columns=['Participant_Selected_For_AID'], errors='ignore')\n",
    "oof, base_models = fit_base_models(X, y, CFG['eligibility']['base_models'], seed=CFG['seed'], n_splits=CFG['cv_folds'])\n",
    "meta = fit_meta(oof, y)\n",
    "print('AUC-PR:', auc_pr(y, oof.mean(axis=1)))\n",
    "print('AUC-ROC:', auc_roc(y, oof.mean(axis=1)))\n",
    "thr, val = find_best_threshold(y, oof.mean(axis=1), target='f1')\n",
    "print('Best F1 threshold:', thr, 'score:', val)\n",
    "print('Brier:', brier(y, oof.mean(axis=1)))\n",
    "\n",
    "final_base = {}\n",
    "for k, ms in base_models.items():\n",
    "    m = ms[-1]; m.random_state = CFG['seed']; m.fit(X, y); final_base[k] = m\n",
    "import numpy as np\n",
    "stack_full = np.column_stack([\n",
    "    final_base['lgbm'].predict_proba(X)[:,1],\n",
    "    final_base['xgb'].predict_proba(X)[:,1],\n",
    "    final_base['rf'].predict_proba(X)[:,1],\n",
    "    final_base['logreg'].predict_proba(X)[:,1],\n",
    "])\n",
    "meta.fit(stack_full, y)\n",
    "dump(list(X.columns), ARTIFACTS_DIR / 'eligibility_features.joblib')\n",
    "dump(final_base, ARTIFACTS_DIR / 'eligibility_base_models.joblib')\n",
    "dump(meta, ARTIFACTS_DIR / 'eligibility_meta.joblib')\n",
    "with open(CONFIG_DIR / 'thresholds.yaml','r') as f:\n",
    "    TH = yaml.safe_load(f)\n",
    "TH['eligibility_threshold'] = float(thr)\n",
    "with open(CONFIG_DIR / 'thresholds.yaml','w') as f:\n",
    "    yaml.safe_dump(TH, f, sort_keys=False)\n",
    "print('✅ Saved eligibility artifacts to', ARTIFACTS_DIR)"
   ]
  },
  {
   "cell_type": "markdown",
   "id": "d375dbfc",
   "metadata": {},
   "source": [
    "## Task 2 — Aid Recommendation (priority-collapsed multiclass)"
   ]
  },
  {
   "cell_type": "code",
   "execution_count": null,
   "id": "26bec6ab",
   "metadata": {},
   "outputs": [],
   "source": [
    "thr = compute_percentiles(df)\n",
    "write_thresholds_yaml(str(CONFIG_DIR / 'thresholds.yaml'), thr)\n",
    "import yaml as _y\n",
    "with open(CONFIG_DIR / 'thresholds.yaml','r') as f:\n",
    "    T = _y.safe_load(f)\n",
    "df_lab = build_multilabel(df.copy(), thresholds=T, k_triggers=T.get('cash_grant_k_triggers',2))\n",
    "order = T.get('priority_order', ['health_support','cash_grant','livelihood_asset','training'])\n",
    "df_lab['Aid_Target'] = df_lab.apply(lambda r: collapse_priority(r, order), axis=1)\n",
    "y2 = df_lab['Aid_Target']\n",
    "X2 = drop_non_numeric_noise(df_lab).select_dtypes(include=['number','bool']).drop(columns=['Participant_Selected_For_AID'], errors='ignore')\n",
    "aid = LGBMClassifier(objective='multiclass', random_state=CFG['seed'], **CFG['aid']['lgbm'])\n",
    "aid.fit(X2, y2)\n",
    "from joblib import dump\n",
    "dump(aid, ARTIFACTS_DIR / 'aid_recommendation.joblib')\n",
    "dump(list(X2.columns), ARTIFACTS_DIR / 'aid_features.joblib')\n",
    "print('✅ Saved aid artifacts to', ARTIFACTS_DIR)"
   ]
  }
 ],
 "metadata": {},
 "nbformat": 4,
 "nbformat_minor": 5
}
