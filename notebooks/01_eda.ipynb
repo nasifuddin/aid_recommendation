{
 "cells": [
  {
   "cell_type": "markdown",
   "id": "10dd6cc5",
   "metadata": {},
   "source": [
    "# 01 — EDA (Relevant Columns Only)\n",
    "This notebook runs EDA **only on relevant columns**, excluding identifiers, free-text, all-null/constant, and high-cardinality strings."
   ]
  },
  {
   "cell_type": "code",
   "execution_count": null,
   "id": "6bab4873",
   "metadata": {},
   "outputs": [],
   "source": [
    "from pathlib import Path\n",
    "import sys, os, re\n",
    "import numpy as np\n",
    "import pandas as pd\n",
    "import matplotlib.pyplot as plt\n",
    "\n",
    "# Auto-detect project ROOT\n",
    "CWD = Path.cwd()\n",
    "ROOT = CWD if (CWD / 'src').exists() else CWD.parent\n",
    "if not (ROOT / 'src').exists():\n",
    "    if (CWD.parent / 'src').exists():\n",
    "        ROOT = CWD.parent\n",
    "    elif (CWD.parent.parent / 'src').exists():\n",
    "        ROOT = CWD.parent.parent\n",
    "sys.path.insert(0, str(ROOT))\n",
    "print(f'Using project ROOT: {ROOT}')\n",
    "\n",
    "DATA_PATH = ROOT / 'data' / 'raw' / 'Participant_Selection_Final.csv'\n",
    "REPORT_DIR = ROOT / 'artifacts' / 'reports'\n",
    "REPORT_DIR.mkdir(parents=True, exist_ok=True)\n",
    "\n",
    "# Columns to explicitly ignore if present (identifiers)\n",
    "EXCLUDE_COLS = {\n",
    "    'Participant_ID','Household_ID','NID','Phone','Mobile','Phone_Number',\n",
    "}\n",
    "from src.data.preprocess import load, preprocess\n",
    "from src.features.build_features import engineer_features\n",
    "\n",
    "# Load & preprocess\n",
    "df_raw = load(str(DATA_PATH))\n",
    "df = preprocess(df_raw.copy())\n",
    "df = engineer_features(df)\n",
    "print('Raw shape:', df_raw.shape, '| After preprocess+engineer:', df.shape)\n",
    "display(df.head())\n",
    "print('\\nInfo:')\n",
    "print(df.info())"
   ]
  },
  {
   "cell_type": "markdown",
   "id": "22638155",
   "metadata": {},
   "source": [
    "## Determine relevant columns"
   ]
  },
  {
   "cell_type": "code",
   "execution_count": null,
   "id": "d30b10b7",
   "metadata": {},
   "outputs": [],
   "source": [
    "n = len(df)\n",
    "drop = set()\n",
    "\n",
    "# 1) explicit excludes\n",
    "for c in df.columns:\n",
    "    if c in EXCLUDE_COLS:\n",
    "        drop.add(c)\n",
    "\n",
    "# 2) near-unique ratio filter for object/category columns\n",
    "for c in df.columns:\n",
    "    if df[c].dtype == 'object' or str(df[c].dtype).startswith('category'):\n",
    "        ratio = df[c].nunique(dropna=True) / max(1, n)\n",
    "        if ratio > 0.9:\n",
    "            drop.add(c)\n",
    "\n",
    "# 3) all-null or constant\n",
    "for c in df.columns:\n",
    "    s = df[c]\n",
    "    if s.isna().all():\n",
    "        drop.add(c)\n",
    "    elif s.nunique(dropna=True) <= 1:\n",
    "        drop.add(c)\n",
    "\n",
    "# 4) long free-text columns (heuristic: mean string length > 30 and > 50 unique)\n",
    "for c in df.columns:\n",
    "    if df[c].dtype == 'object':\n",
    "        s = df[c].dropna().astype(str)\n",
    "        if len(s) > 0:\n",
    "            if (s.str.len().mean() > 30) and (s.nunique() > 50):\n",
    "                drop.add(c)\n",
    "\n",
    "relevant_cols = [c for c in df.columns if c not in drop]\n",
    "df_rel = df[relevant_cols].copy()\n",
    "print('Dropped columns:', len(drop))\n",
    "print('Relevant columns:', len(relevant_cols))\n",
    "pd.Series(sorted(drop)).to_csv(REPORT_DIR / 'eda_dropped_columns.csv', index=False)\n",
    "pd.Series(relevant_cols).to_csv(REPORT_DIR / 'eda_relevant_columns.csv', index=False)\n",
    "display(df_rel.head())"
   ]
  },
  {
   "cell_type": "markdown",
   "id": "4392c1a0",
   "metadata": {},
   "source": [
    "## Basic profile on relevant set"
   ]
  },
  {
   "cell_type": "code",
   "execution_count": null,
   "id": "9c0b6d37",
   "metadata": {},
   "outputs": [],
   "source": [
    "desc = df_rel.describe(include='all').T\n",
    "display(desc.head(30))\n",
    "desc.to_csv(REPORT_DIR / 'eda_relevant_describe.csv')\n",
    "missing = df_rel.isna().mean().sort_values(ascending=False)\n",
    "display(missing.head(30))\n",
    "missing.to_csv(REPORT_DIR / 'eda_relevant_missing.csv')"
   ]
  },
  {
   "cell_type": "markdown",
   "id": "4dcbe8b7",
   "metadata": {},
   "source": [
    "## Target balance (if present)"
   ]
  },
  {
   "cell_type": "code",
   "execution_count": null,
   "id": "e4a134ab",
   "metadata": {},
   "outputs": [],
   "source": [
    "def plot_counts(series, title, fname):\n",
    "    vc = series.value_counts(dropna=False)\n",
    "    plt.figure(figsize=(6,4))\n",
    "    plt.bar(range(len(vc)), vc.values)\n",
    "    plt.xticks(range(len(vc)), vc.index.astype(str), rotation=45, ha='right')\n",
    "    plt.title(title); plt.ylabel('Count'); plt.tight_layout()\n",
    "    plt.savefig(REPORT_DIR / fname, dpi=150, bbox_inches='tight'); plt.show()\n",
    "\n",
    "if 'Participant_Selected_For_AID' in df_raw.columns:\n",
    "    plot_counts(df_raw['Participant_Selected_For_AID'], 'Task 1: Selection (raw)', 'rel_target_task1_counts.png')\n",
    "if 'Aid_Type_Recomended' in df_raw.columns:\n",
    "    plot_counts(df_raw['Aid_Type_Recomended'], 'Task 2: Aid Type (raw)', 'rel_target_task2_counts.png')"
   ]
  },
  {
   "cell_type": "markdown",
   "id": "d5684a9e",
   "metadata": {},
   "source": [
    "## Numeric distributions (relevant)"
   ]
  },
  {
   "cell_type": "code",
   "execution_count": null,
   "id": "3e0c3fdb",
   "metadata": {},
   "outputs": [],
   "source": [
    "num_cols = df_rel.select_dtypes(include=['number','bool']).columns.tolist()\n",
    "if num_cols:\n",
    "    n = len(num_cols); ncols = 3; nrows = int(np.ceil(n/ncols))\n",
    "    plt.figure(figsize=(15, 4*nrows))\n",
    "    for i, c in enumerate(num_cols, 1):\n",
    "        ax = plt.subplot(nrows, ncols, i)\n",
    "        vals = df_rel[c].dropna().values\n",
    "        ax.hist(vals, bins=30)\n",
    "        ax.set_title(c)\n",
    "    plt.tight_layout(); plt.savefig(REPORT_DIR / 'rel_numeric_histograms.png', dpi=150, bbox_inches='tight'); plt.show()\n",
    "else:\n",
    "    print('No numeric/boolean relevant columns found.')"
   ]
  },
  {
   "cell_type": "markdown",
   "id": "d8c428a5",
   "metadata": {},
   "source": [
    "## Categorical distributions (relevant, low/medium cardinality only)"
   ]
  },
  {
   "cell_type": "code",
   "execution_count": null,
   "id": "552644b7",
   "metadata": {},
   "outputs": [],
   "source": [
    "cat_cols = [c for c in df_rel.select_dtypes(include=['object','category']).columns\n",
    "            if df_rel[c].nunique(dropna=True) <= 30]\n",
    "if cat_cols:\n",
    "    n = len(cat_cols); ncols = 3; nrows = int(np.ceil(n/ncols))\n",
    "    plt.figure(figsize=(15, 4*nrows))\n",
    "    for i, c in enumerate(cat_cols, 1):\n",
    "        ax = plt.subplot(nrows, ncols, i)\n",
    "        vc = df_rel[c].value_counts(dropna=False).head(30)\n",
    "        ax.bar(vc.index.astype(str), vc.values)\n",
    "        ax.set_title(c); ax.tick_params(axis='x', rotation=90)\n",
    "    plt.tight_layout(); plt.savefig(REPORT_DIR / 'rel_categorical_bars.png', dpi=150, bbox_inches='tight'); plt.show()\n",
    "else:\n",
    "    print('No low/medium-cardinality categoricals found.')"
   ]
  },
  {
   "cell_type": "markdown",
   "id": "44ce0650",
   "metadata": {},
   "source": [
    "## Correlations among relevant numeric features"
   ]
  },
  {
   "cell_type": "code",
   "execution_count": null,
   "id": "8189b12e",
   "metadata": {},
   "outputs": [],
   "source": [
    "num_cols = df_rel.select_dtypes(include=['number']).columns.tolist()\n",
    "if len(num_cols) > 1:\n",
    "    corr = df_rel[num_cols].corr()\n",
    "    plt.figure(figsize=(12,10))\n",
    "    im = plt.imshow(corr, aspect='auto', interpolation='nearest')\n",
    "    plt.colorbar(im, fraction=0.046, pad=0.04)\n",
    "    plt.xticks(range(len(num_cols)), num_cols, rotation=90)\n",
    "    plt.yticks(range(len(num_cols)), num_cols)\n",
    "    plt.title('Correlation Heatmap (Relevant Numeric)')\n",
    "    plt.tight_layout(); plt.savefig(REPORT_DIR / 'rel_correlation_heatmap.png', dpi=150, bbox_inches='tight'); plt.show()\n",
    "else:\n",
    "    print('Not enough numeric columns for correlation heatmap.')"
   ]
  },
  {
   "cell_type": "markdown",
   "id": "4f34b5c6",
   "metadata": {},
   "source": [
    "## Feature vs Target (relevant)"
   ]
  },
  {
   "cell_type": "code",
   "execution_count": null,
   "id": "2c5585ae",
   "metadata": {},
   "outputs": [],
   "source": [
    "targets = []\n",
    "if 'Participant_Selected_For_AID' in df_raw.columns: targets.append('Participant_Selected_For_AID')\n",
    "if 'Aid_Type_Recomended' in df_raw.columns: targets.append('Aid_Type_Recomended')\n",
    "\n",
    "for tgt in targets:\n",
    "    # Numeric vs target\n",
    "    t = df_raw[tgt].dropna()\n",
    "    classes = t.unique().astype(str)\n",
    "    num_cols = df_rel.select_dtypes(include=['number']).columns.tolist()[:9]\n",
    "    if num_cols:\n",
    "        plt.figure(figsize=(15, 12))\n",
    "        n = len(num_cols); ncols = 3; nrows = int(np.ceil(n/ncols))\n",
    "        for i, c in enumerate(num_cols, 1):\n",
    "            ax = plt.subplot(nrows, ncols, i)\n",
    "            groups = [df_rel.loc[df_raw[tgt]==cls, c].dropna().values for cls in classes]\n",
    "            ax.boxplot(groups, labels=classes)\n",
    "            ax.set_title(f'{c} by {tgt}')\n",
    "            ax.tick_params(axis='x', rotation=45)\n",
    "        plt.tight_layout(); plt.savefig(REPORT_DIR / f'rel_box_{tgt}.png', dpi=150, bbox_inches='tight'); plt.show()\n",
    "\n",
    "    # Categorical vs target (stacked bars)\n",
    "    cat_cols = [c for c in df_rel.select_dtypes(include=['object','category']).columns if df_rel[c].nunique(dropna=True) <= 15][:9]\n",
    "    if cat_cols:\n",
    "        plt.figure(figsize=(15, 12))\n",
    "        n = len(cat_cols); ncols = 3; nrows = int(np.ceil(n/ncols))\n",
    "        for i, c in enumerate(cat_cols, 1):\n",
    "            ax = plt.subplot(nrows, ncols, i)\n",
    "            ct = pd.crosstab(df_rel[c].astype(str), df_raw[tgt].astype(str))\n",
    "            bottoms = np.zeros(len(ct))\n",
    "            for cls in ct.columns:\n",
    "                ax.bar(ct.index, ct[cls].values, bottom=bottoms, label=str(cls))\n",
    "                bottoms += ct[cls].values\n",
    "            ax.set_title(f'{c} by {tgt}')\n",
    "            ax.tick_params(axis='x', rotation=90)\n",
    "        plt.tight_layout();\n",
    "        plt.legend(title=tgt, bbox_to_anchor=(1.05, 1), loc='upper left');\n",
    "        plt.savefig(REPORT_DIR / f'rel_stacked_{tgt}.png', dpi=150, bbox_inches='tight'); plt.show()"
   ]
  },
  {
   "cell_type": "markdown",
   "id": "6ead1cce",
   "metadata": {},
   "source": [
    "## Save compact summary"
   ]
  },
  {
   "cell_type": "code",
   "execution_count": null,
   "id": "be6f82b2",
   "metadata": {},
   "outputs": [],
   "source": [
    "summary = {\n",
    "    'raw_shape': tuple(df_raw.shape),\n",
    "    'processed_shape': tuple(df.shape),\n",
    "    'relevant_cols': len(df_rel.columns),\n",
    "}\n",
    "import json\n",
    "with open(REPORT_DIR / 'rel_eda_summary.json','w') as f:\n",
    "    json.dump(summary, f, indent=2)\n",
    "print('Saved rel_eda_summary.json')"
   ]
  }
 ],
 "metadata": {},
 "nbformat": 4,
 "nbformat_minor": 5
}
